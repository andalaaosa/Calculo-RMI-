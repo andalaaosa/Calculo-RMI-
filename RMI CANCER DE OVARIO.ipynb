import pandas as pd

def calcular_RMI(puntaje_ecografia, estado_menopausico, nivel_CA125):
    """
    Calcula el Índice de Riesgo de Malignidad (RMI) en cáncer de ovario.
    
    Parámetros:
    puntaje_ecografia (int): Puntaje de la ecografía (0, 1 o 4).
    estado_menopausico (int): Estado menopáusico (1 para premenopáusica, 3 para postmenopáusica).
    nivel_CA125 (float): Nivel de CA-125 en sangre (U/ml).
    
    Retorna:
    float: El índice RMI calculado.
    """
    if puntaje_ecografia not in [0, 1, 4]:
        raise ValueError("El puntaje de la ecografía debe ser 0, 1 o 4.")
    if estado_menopausico not in [1, 3]:
        raise ValueError("El estado menopáusico debe ser 1 (premenopáusica) o 3 (postmenopáusica).")
    if nivel_CA125 < 0:
        raise ValueError("El nivel de CA-125 no puede ser negativo.")
    
    # Calcular el RMI
    RMI = puntaje_ecografia * estado_menopausico * nivel_CA125
    return RMI
def interpretar_RMI(RMI):
    """
    Interpreta el valor del RMI según el riesgo de malignidad.
    
    Parámetros:
    RMI (float): Índice de Riesgo de Malignidad calculado.
    
    Retorna:
    str: La interpretación del riesgo (Bajo, Moderado, Alto).
    """
    if RMI < 25:
        return 'Bajo'
    elif 25 <= RMI <= 250:
        return 'Moderado'
    else:
        return 'Alto'
# Leer el archivo de Excel
archivo_excel = 'Base de datos Neoplasias de Ovario.xlsx'
df = pd.read_excel(archivo_excel)

# Eliminar espacios en blanco de los nombres de las columnas
df.columns = df.columns.str.strip()

# Imprimir los nombres de las columnas para verificar
print("Nombres de las columnas:", df.columns)

# Calcular el RMI y su interpretación para cada fila
df['RMI'] = df.apply(lambda row: calcular_RMI(row['Ecografia'], row['Menopausia'], row['CA125']), axis=1)
df['Interpretación'] = df['RMI'].apply(interpretar_RMI)

# Guardar el resultado en un nuevo archivo de Excel
df.to_excel('resultados_RMI.xlsx', index=False)

print("El cálculo del RMI se ha completado y los resultados se han guardado en 'resultados_RMI.xlsx'.")
