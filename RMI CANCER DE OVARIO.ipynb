{
 "cells": [
  {
   "cell_type": "code",
   "execution_count": 7,
   "metadata": {},
   "outputs": [
    {
     "name": "stdout",
     "output_type": "stream",
     "text": [
      "Requirement already satisfied: pandas in c:\\users\\a-gri\\anaconda3\\envs\\biousac\\lib\\site-packages (2.1.4)\n",
      "Requirement already satisfied: openpyxl in c:\\users\\a-gri\\anaconda3\\envs\\biousac\\lib\\site-packages (3.1.5)\n",
      "Requirement already satisfied: numpy<2,>=1.23.2 in c:\\users\\a-gri\\appdata\\roaming\\python\\python311\\site-packages (from pandas) (1.26.4)\n",
      "Requirement already satisfied: python-dateutil>=2.8.2 in c:\\users\\a-gri\\anaconda3\\envs\\biousac\\lib\\site-packages (from pandas) (2.8.2)\n",
      "Requirement already satisfied: pytz>=2020.1 in c:\\users\\a-gri\\anaconda3\\envs\\biousac\\lib\\site-packages (from pandas) (2023.3.post1)\n",
      "Requirement already satisfied: tzdata>=2022.1 in c:\\users\\a-gri\\anaconda3\\envs\\biousac\\lib\\site-packages (from pandas) (2023.3)\n",
      "Requirement already satisfied: et-xmlfile in c:\\users\\a-gri\\anaconda3\\envs\\biousac\\lib\\site-packages (from openpyxl) (1.1.0)\n",
      "Requirement already satisfied: six>=1.5 in c:\\users\\a-gri\\anaconda3\\envs\\biousac\\lib\\site-packages (from python-dateutil>=2.8.2->pandas) (1.16.0)\n",
      "Note: you may need to restart the kernel to use updated packages.\n"
     ]
    }
   ],
   "source": [
    "pip install pandas openpyxl\n"
   ]
  },
  {
   "cell_type": "code",
   "execution_count": 8,
   "metadata": {},
   "outputs": [
    {
     "name": "stdout",
     "output_type": "stream",
     "text": [
      "Nombres de las columnas: Index(['Correlativo', 'Edad', 'Procedencia', 'Antecedentes Familiares',\n",
      "       'Factores de Riesgo', 'Lateralidad', 'Menopausia', 'Ecografia', 'CA125',\n",
      "       'RMI', 'Interpretación', 'Dx Histológico'],\n",
      "      dtype='object')\n",
      "El cálculo del RMI se ha completado y los resultados se han guardado en 'resultados_RMI.xlsx'.\n"
     ]
    }
   ],
   "source": [
    "import pandas as pd\n",
    "\n",
    "def calcular_RMI(puntaje_ecografia, estado_menopausico, nivel_CA125):\n",
    "    \"\"\"\n",
    "    Calcula el Índice de Riesgo de Malignidad (RMI) en cáncer de ovario.\n",
    "    \n",
    "    Parámetros:\n",
    "    puntaje_ecografia (int): Puntaje de la ecografía (0, 1 o 4).\n",
    "    estado_menopausico (int): Estado menopáusico (1 para premenopáusica, 3 para postmenopáusica).\n",
    "    nivel_CA125 (float): Nivel de CA-125 en sangre (U/ml).\n",
    "    \n",
    "    Retorna:\n",
    "    float: El índice RMI calculado.\n",
    "    \"\"\"\n",
    "    if puntaje_ecografia not in [0, 1, 4]:\n",
    "        raise ValueError(\"El puntaje de la ecografía debe ser 0, 1 o 4.\")\n",
    "    if estado_menopausico not in [1, 3]:\n",
    "        raise ValueError(\"El estado menopáusico debe ser 1 (premenopáusica) o 3 (postmenopáusica).\")\n",
    "    if nivel_CA125 < 0:\n",
    "        raise ValueError(\"El nivel de CA-125 no puede ser negativo.\")\n",
    "    \n",
    "    # Calcular el RMI\n",
    "    RMI = puntaje_ecografia * estado_menopausico * nivel_CA125\n",
    "    return RMI\n",
    "\n",
    "# Leer el archivo de Excel\n",
    "archivo_excel = 'Base de datos Neoplasias de Ovario.xlsx'\n",
    "df = pd.read_excel(archivo_excel)\n",
    "\n",
    "# Eliminar espacios en blanco de los nombres de las columnas\n",
    "df.columns = df.columns.str.strip()\n",
    "\n",
    "# Imprimir los nombres de las columnas para verificar\n",
    "print(\"Nombres de las columnas:\", df.columns)\n",
    "\n",
    "# Las columnas en el archivo de Excel son 'Ecografia', 'Menopausia' y 'CA125'\n",
    "df['RMI'] = df.apply(lambda row: calcular_RMI(row['Ecografia'], row['Menopausia'], row['CA125']), axis=1)\n",
    "\n",
    "# Guardar el resultado en un nuevo archivo de Excel\n",
    "df.to_excel('resultados_RMI.xlsx', index=False)\n",
    "\n",
    "print(\"El cálculo del RMI se ha completado y los resultados se han guardado en 'resultados_RMI.xlsx'.\")\n"
   ]
  }
 ],
 "metadata": {
  "kernelspec": {
   "display_name": "BIOUSAC",
   "language": "python",
   "name": "python3"
  },
  "language_info": {
   "codemirror_mode": {
    "name": "ipython",
    "version": 3
   },
   "file_extension": ".py",
   "mimetype": "text/x-python",
   "name": "python",
   "nbconvert_exporter": "python",
   "pygments_lexer": "ipython3",
   "version": "3.11.7"
  }
 },
 "nbformat": 4,
 "nbformat_minor": 2
}
